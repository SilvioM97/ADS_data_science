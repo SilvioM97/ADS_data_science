{
 "cells": [
  {
   "cell_type": "markdown",
   "metadata": {},
   "source": [
    "# Imports"
   ]
  },
  {
   "cell_type": "code",
   "execution_count": null,
   "metadata": {},
   "outputs": [],
   "source": [
    "import time\n",
    "import random\n",
    "import matplotlib.pyplot as plt\n",
    "import seaborn as sns\n",
    "from graphviz import Digraph\n",
    "\n",
    "# Set the style of the plots with grey grid\n",
    "sns.set(style=\"darkgrid\")"
   ]
  },
  {
   "cell_type": "markdown",
   "metadata": {},
   "source": [
    "# Recursion"
   ]
  },
  {
   "cell_type": "markdown",
   "metadata": {},
   "source": [
    "## Exercises"
   ]
  },
  {
   "cell_type": "markdown",
   "metadata": {},
   "source": [
    "### Exercise 1 - Factorial"
   ]
  },
  {
   "cell_type": "code",
   "execution_count": null,
   "metadata": {},
   "outputs": [],
   "source": [
    "def factorial(n):\n",
    "    if not isinstance(n, int): # Check if n is integer\n",
    "        raise TypeError('n must be a non-negative integer')\n",
    "    if n < 0: # Check if n is non-negative\n",
    "        raise ValueError('n must be a non-negative integer')\n",
    "    if n == 0: # Base case\n",
    "        return 1\n",
    "    return n * factorial(n-1) # Recursive case"
   ]
  },
  {
   "cell_type": "markdown",
   "metadata": {},
   "source": [
    "##### Use"
   ]
  },
  {
   "cell_type": "code",
   "execution_count": null,
   "metadata": {},
   "outputs": [],
   "source": [
    "factorial(-1) # Error"
   ]
  },
  {
   "cell_type": "code",
   "execution_count": null,
   "metadata": {},
   "outputs": [],
   "source": [
    "factorial(5.5) # Error"
   ]
  },
  {
   "cell_type": "code",
   "execution_count": null,
   "metadata": {},
   "outputs": [],
   "source": [
    "factorial(0) # 1"
   ]
  },
  {
   "cell_type": "code",
   "execution_count": null,
   "metadata": {},
   "outputs": [],
   "source": [
    "factorial(1) # 1"
   ]
  },
  {
   "cell_type": "code",
   "execution_count": null,
   "metadata": {},
   "outputs": [],
   "source": [
    "factorial(2) # 2"
   ]
  },
  {
   "cell_type": "code",
   "execution_count": null,
   "metadata": {},
   "outputs": [],
   "source": [
    "factorial(3) # 6"
   ]
  },
  {
   "cell_type": "code",
   "execution_count": null,
   "metadata": {},
   "outputs": [],
   "source": [
    "factorial(5) # 120"
   ]
  },
  {
   "cell_type": "code",
   "execution_count": null,
   "metadata": {},
   "outputs": [],
   "source": [
    "factorial(20) # 2432902008176640000"
   ]
  },
  {
   "cell_type": "markdown",
   "metadata": {},
   "source": [
    "### Exercise 2 - Fibonacci Sequence"
   ]
  },
  {
   "cell_type": "code",
   "execution_count": null,
   "metadata": {},
   "outputs": [],
   "source": [
    "# Fibonacci sequence\n",
    "def fibonacci(n):\n",
    "    if not isinstance(n, int): # Check if n is integer\n",
    "        raise TypeError('n must be a non-negative integer')\n",
    "    if n < 0: # Check if n is non-negative\n",
    "        raise ValueError('n must be a non-negative integer')\n",
    "    if n == 0: # Base case 1\n",
    "        return 0\n",
    "    if n == 1: # Base case 2\n",
    "        return 1\n",
    "    return fibonacci(n-1) + fibonacci(n-2) # Recursive case"
   ]
  },
  {
   "cell_type": "markdown",
   "metadata": {},
   "source": [
    "##### Use"
   ]
  },
  {
   "cell_type": "code",
   "execution_count": null,
   "metadata": {},
   "outputs": [],
   "source": [
    "fibonacci(-1) # Error"
   ]
  },
  {
   "cell_type": "code",
   "execution_count": null,
   "metadata": {},
   "outputs": [],
   "source": [
    "fibonacci(1.3) # Error"
   ]
  },
  {
   "cell_type": "code",
   "execution_count": null,
   "metadata": {},
   "outputs": [],
   "source": [
    "fibonacci(0) # 0"
   ]
  },
  {
   "cell_type": "code",
   "execution_count": null,
   "metadata": {},
   "outputs": [],
   "source": [
    "fibonacci(1) # 1"
   ]
  },
  {
   "cell_type": "code",
   "execution_count": null,
   "metadata": {},
   "outputs": [],
   "source": [
    "fibonacci(2) # 1"
   ]
  },
  {
   "cell_type": "code",
   "execution_count": null,
   "metadata": {},
   "outputs": [],
   "source": [
    "n = 20"
   ]
  },
  {
   "cell_type": "code",
   "execution_count": null,
   "metadata": {},
   "outputs": [],
   "source": [
    "# First 20 Fibonacci numbers\n",
    "for i in range(n):\n",
    "    print(fibonacci(i), end='')\n",
    "    if i < n-1:\n",
    "        print(', ', end='')"
   ]
  },
  {
   "cell_type": "markdown",
   "metadata": {},
   "source": [
    "### Exercise 3 - Sum of list"
   ]
  },
  {
   "cell_type": "markdown",
   "metadata": {},
   "source": [
    "Write a recursive function in Python that takes a list of numbers as input and returns the sum of the numbers in the list. If the list is empty, the sum should be 0."
   ]
  },
  {
   "cell_type": "code",
   "execution_count": null,
   "metadata": {},
   "outputs": [],
   "source": [
    "def sum_of_list(sequence):\n",
    "    # Base case: If the list is empty, return 0\n",
    "    if not sequence:\n",
    "        return 0\n",
    "    # Recursive case: The sum is the first element plus the sum of the rest of the list\n",
    "    else:\n",
    "        return sequence[0] + sum_of_list(sequence[1:])"
   ]
  },
  {
   "cell_type": "markdown",
   "metadata": {},
   "source": [
    "##### Use"
   ]
  },
  {
   "cell_type": "code",
   "execution_count": null,
   "metadata": {},
   "outputs": [],
   "source": [
    "numbers = [1, 2, 3, 4, 5]\n",
    "print(\"The sum of the list is:\", sum_of_list(numbers)) # 15"
   ]
  },
  {
   "cell_type": "markdown",
   "metadata": {},
   "source": [
    "##### Recursive or Iterative?"
   ]
  },
  {
   "cell_type": "markdown",
   "metadata": {},
   "source": [
    "Is this recursive implementation advantageous? At each recursive step we have to slice the list in order to pass the sublist to the recursive call. Maybe the recursion isn't the best option here. Let's compare recursive and iterative solutions"
   ]
  },
  {
   "cell_type": "code",
   "execution_count": null,
   "metadata": {},
   "outputs": [],
   "source": [
    "def sum_of_list_iterative(sequence):\n",
    "    total_sum = 0\n",
    "    for num in sequence:\n",
    "        total_sum += num\n",
    "    return total_sum"
   ]
  },
  {
   "cell_type": "code",
   "execution_count": null,
   "metadata": {},
   "outputs": [],
   "source": [
    "numbers = [1, 2, 3, 4, 5]\n",
    "print(\"The sum of the list is:\", sum_of_list_iterative(numbers))"
   ]
  },
  {
   "cell_type": "code",
   "execution_count": null,
   "metadata": {},
   "outputs": [],
   "source": [
    "def time_function(func, sequence):\n",
    "    start = time.time()\n",
    "    func(sequence)\n",
    "    end = time.time()\n",
    "    return end - start\n",
    "\n",
    "def random_list(length):\n",
    "    return [random.randint(0, 100) for _ in range(length)]"
   ]
  },
  {
   "cell_type": "code",
   "execution_count": null,
   "metadata": {},
   "outputs": [],
   "source": [
    "# Generate a random length list and time the recursive sum function for 100 times, save the average time\n",
    "time_recursive = []\n",
    "time_iterative = []\n",
    "\n",
    "for length in range(10, 1000, 10):\n",
    "    sequence = random_list(length)\n",
    "    time_recursive.append(time_function(sum_of_list, sequence))\n",
    "    time_iterative.append(time_function(sum_of_list_iterative, sequence))"
   ]
  },
  {
   "cell_type": "code",
   "execution_count": null,
   "metadata": {},
   "outputs": [],
   "source": [
    "# Transform time in seconds to time in microseconds\n",
    "time_recursive = [t*1000000 for t in time_recursive]\n",
    "time_iterative = [t*1000000 for t in time_iterative]"
   ]
  },
  {
   "cell_type": "code",
   "execution_count": null,
   "metadata": {},
   "outputs": [],
   "source": [
    "# Plot the time taken for the recursive and iterative functions\n",
    "plt.figure(figsize=(8, 5))\n",
    "\n",
    "sns.scatterplot(x=range(10, 1000, 10), y=time_recursive, label='Recursive')\n",
    "sns.scatterplot(x=range(10, 1000, 10), y=time_iterative, label='Iterative')\n",
    "sns.lineplot(x=range(10, 1000, 10), y=time_recursive)\n",
    "sns.lineplot(x=range(10, 1000, 10), y=time_iterative)\n",
    "\n",
    "plt.title('Sum of lists')\n",
    "\n",
    "plt.xlabel('Length of list', size=14)\n",
    "plt.ylabel('Time taken (μs)', size=14)\n",
    "\n",
    "plt.legend()\n",
    "\n",
    "plt.show()\n"
   ]
  },
  {
   "cell_type": "markdown",
   "metadata": {},
   "source": [
    "### Exercise 4 - Revisiting Fibonacci"
   ]
  },
  {
   "cell_type": "markdown",
   "metadata": {},
   "source": [
    "Rethink about previous Fibonacci implementation. Is it efficient?\n",
    "\n",
    "Hint: try to draw the recursion tree and evaluate the asymptotic time complexity of the function with respect to the input size 'n'"
   ]
  },
  {
   "cell_type": "markdown",
   "metadata": {},
   "source": [
    "Let's compare iterative and recursive implementations"
   ]
  },
  {
   "cell_type": "code",
   "execution_count": null,
   "metadata": {},
   "outputs": [],
   "source": [
    "def fibonacci_iterative(n):\n",
    "    if not isinstance(n, int): # Check if n is integer\n",
    "        raise TypeError('n must be a non-negative integer')\n",
    "    if n < 0: # Check if n is non-negative\n",
    "        raise ValueError('n must be a non-negative integer')\n",
    "    a, b = 0, 1\n",
    "    for _ in range(n):\n",
    "        a, b = b, a + b\n",
    "    return a"
   ]
  },
  {
   "cell_type": "code",
   "execution_count": null,
   "metadata": {},
   "outputs": [],
   "source": [
    "time_recursive = []\n",
    "time_iterative = []\n",
    "\n",
    "for i in range(1, 30, 2):\n",
    "    time_recursive.append(time_function(fibonacci, i))\n",
    "    time_iterative.append(time_function(fibonacci_iterative, i))"
   ]
  },
  {
   "cell_type": "code",
   "execution_count": null,
   "metadata": {},
   "outputs": [],
   "source": [
    "# Plot the time taken for the recursive and iterative functions\n",
    "plt.figure(figsize=(8, 5))\n",
    "\n",
    "sns.scatterplot(x=range(1, 30, 2), y=time_recursive, label='Recursive')\n",
    "sns.scatterplot(x=range(1, 30, 2), y=time_iterative, label='Iterative')\n",
    "sns.lineplot(x=range(1, 30, 2), y=time_recursive)\n",
    "sns.lineplot(x=range(1, 30, 2), y=time_iterative)\n",
    "\n",
    "plt.title('Fibonacci sequence')\n",
    "\n",
    "plt.xlabel('Length of list', size=14)\n",
    "plt.ylabel('Time taken (μs)', size=14)\n",
    "\n",
    "plt.legend()\n",
    "\n",
    "plt.show()"
   ]
  },
  {
   "cell_type": "markdown",
   "metadata": {},
   "source": [
    "We can see an exponential growth of the recursive version. Why?\n",
    "\n",
    "Hint: each recursive call makes two other recursive calls ---> ~ 2^n recursive calls"
   ]
  },
  {
   "cell_type": "markdown",
   "metadata": {},
   "source": [
    "Actually, we are wasting a lot of information. fibonacci(n) calls both fibonacci(n-1) and fibonacci(n-2) separately, but fibonacci(n-2) is already called inside fibonacci(n-1). \n",
    "\n",
    "Let's try to write an optimized recursive implementation"
   ]
  },
  {
   "cell_type": "code",
   "execution_count": null,
   "metadata": {},
   "outputs": [],
   "source": [
    "# Fibonacci sequence\n",
    "def fibonacci_optimized(n):\n",
    "    if not isinstance(n, int): # Check if n is integer\n",
    "        raise TypeError('n must be a non-negative integer')\n",
    "    if n < 0: # Check if n is non-negative\n",
    "        raise ValueError('n must be a non-negative integer')\n",
    "    if n == 0:\n",
    "        return 1, 0\n",
    "    a, b = fibonacci_optimized(n-1) # Recursive case, only one recursive call is made here\n",
    "    return a + b, a\n"
   ]
  },
  {
   "cell_type": "markdown",
   "metadata": {},
   "source": [
    "Now we do only one recursive call at and each time n decreases by 1, so we do ~n recursive calls, which implies a time complexity of O(n) (because the number of operations at each step is constant)"
   ]
  },
  {
   "cell_type": "code",
   "execution_count": null,
   "metadata": {},
   "outputs": [],
   "source": [
    "n = 20\n",
    "for i in range(n):\n",
    "    print(fibonacci(i), end='')\n",
    "    if i < n-1:\n",
    "        print(', ', end='')\n"
   ]
  },
  {
   "cell_type": "code",
   "execution_count": null,
   "metadata": {},
   "outputs": [],
   "source": [
    "# Check if it works\n",
    "n = 20\n",
    "for i in range(n):\n",
    "    print(fibonacci_optimized(i)[1], end='')\n",
    "    if i < n-1:\n",
    "        print(', ', end='')\n"
   ]
  },
  {
   "cell_type": "code",
   "execution_count": null,
   "metadata": {},
   "outputs": [],
   "source": [
    "time_recursive = []\n",
    "time_iterative = []\n",
    "time_optimized = [] \n",
    "\n",
    "for i in range(1, 30, 2):\n",
    "    time_recursive.append(time_function(fibonacci, i))\n",
    "    time_iterative.append(time_function(fibonacci_iterative, i))\n",
    "    time_optimized.append(time_function(fibonacci_optimized, i))\n",
    "\n",
    "# Transform time in seconds to time in microseconds\n",
    "time_recursive = [t*1000000 for t in time_recursive]\n",
    "time_iterative = [t*1000000 for t in time_iterative]\n",
    "time_optimized = [t*1000000 for t in time_optimized]"
   ]
  },
  {
   "cell_type": "code",
   "execution_count": null,
   "metadata": {},
   "outputs": [],
   "source": [
    "# Plot the time taken for the recursive and iterative functions\n",
    "plt.figure(figsize=(8, 5))\n",
    "\n",
    "sns.scatterplot(x=range(1, 30, 2), y=time_recursive, label='Recursive')\n",
    "sns.scatterplot(x=range(1, 30, 2), y=time_iterative, label='Iterative')\n",
    "sns.scatterplot(x=range(1, 30, 2), y=time_optimized, label='Recursive Optimized')\n",
    "sns.lineplot(x=range(1, 30, 2), y=time_recursive)\n",
    "sns.lineplot(x=range(1, 30, 2), y=time_iterative)\n",
    "sns.lineplot(x=range(1, 30, 2), y=time_optimized)\n",
    "\n",
    "plt.title('Fibonacci sequence')\n",
    "\n",
    "plt.xlabel('n', size=14)\n",
    "plt.ylabel('Time taken (μs)', size=14)\n",
    "\n",
    "plt.legend()\n",
    "\n",
    "plt.show()"
   ]
  },
  {
   "cell_type": "code",
   "execution_count": null,
   "metadata": {},
   "outputs": [],
   "source": [
    "# Plot the time taken for the recursive and iterative functions\n",
    "plt.figure(figsize=(8, 5))\n",
    "\n",
    "sns.scatterplot(x=range(1, 30, 2), y=time_iterative, label='Iterative')\n",
    "sns.scatterplot(x=range(1, 30, 2), y=time_optimized, label='Recursive optimized')\n",
    "sns.lineplot(x=range(1, 30, 2), y=time_iterative)\n",
    "sns.lineplot(x=range(1, 30, 2), y=time_optimized)\n",
    "\n",
    "plt.title('Fibonacci sequence')\n",
    "\n",
    "plt.xlabel('n', size=14)\n",
    "plt.ylabel('Time taken (μs)', size=14)\n",
    "\n",
    "plt.legend()\n",
    "\n",
    "plt.show()"
   ]
  },
  {
   "cell_type": "markdown",
   "metadata": {},
   "source": [
    "We can see that iterative implementations have a slight advantage in terms of efficiency. So, when should we use recursion?\n",
    "\n",
    "There could be cases when this does not happen, but also, efficiency is not always the absolute priority. In some cases, if the asymptotic complexity is the same, recursion simplifies both writing and reading the code. There are structures, like trees (see Ex. 6), which have a recursive nature. Recursion is often preferable in these cases. "
   ]
  },
  {
   "cell_type": "markdown",
   "metadata": {},
   "source": [
    "### Exercise 5 - Binary Search"
   ]
  },
  {
   "cell_type": "markdown",
   "metadata": {},
   "source": [
    "##### Recursive"
   ]
  },
  {
   "cell_type": "code",
   "execution_count": null,
   "metadata": {},
   "outputs": [],
   "source": [
    "def binary_search_recursive(arr, target, low, high):\n",
    "    if high >= low:\n",
    "        mid = (high + low) // 2\n",
    "        \n",
    "        # If element is present at the middle itself\n",
    "        if arr[mid] == target:\n",
    "            return mid\n",
    "        \n",
    "        # If element is smaller than mid, then it can only be present in left subarray\n",
    "        elif arr[mid] > target:\n",
    "            return binary_search_recursive(arr, target, low, mid - 1)\n",
    "        \n",
    "        # Else the element can only be present in right subarray\n",
    "        else:\n",
    "            return binary_search_recursive(arr, target, mid + 1, high)\n",
    "    else:\n",
    "        # Element is not present in array\n",
    "        return -1"
   ]
  },
  {
   "cell_type": "code",
   "execution_count": null,
   "metadata": {},
   "outputs": [],
   "source": [
    "# Example usage\n",
    "arr = [2, 3, 4, 10, 40]\n",
    "target = 10\n",
    "result = binary_search_recursive(arr, target, 0, len(arr)-1)\n",
    "if result != -1:\n",
    "    print(\"Element found at index:\", result)\n",
    "else:\n",
    "    print(\"Element not found in array\")"
   ]
  },
  {
   "cell_type": "code",
   "execution_count": null,
   "metadata": {},
   "outputs": [],
   "source": [
    "# Example usage\n",
    "arr = [2, 3, 4, 10, 40]\n",
    "target = 30\n",
    "result = binary_search_recursive(arr, target, 0, len(arr)-1)\n",
    "if result != -1:\n",
    "    print(\"Element found at index:\", result)\n",
    "else:\n",
    "    print(\"Element not found in array\")"
   ]
  },
  {
   "cell_type": "markdown",
   "metadata": {},
   "source": [
    "##### Iterative"
   ]
  },
  {
   "cell_type": "code",
   "execution_count": null,
   "metadata": {},
   "outputs": [],
   "source": [
    "def binary_search_iterative(arr, target):\n",
    "    low = 0\n",
    "    high = len(arr) - 1\n",
    "    \n",
    "    while low <= high:\n",
    "        mid = (low + high) // 2\n",
    "        \n",
    "        # Check if target is present at mid\n",
    "        if arr[mid] == target:\n",
    "            return mid\n",
    "        \n",
    "        # If target is greater, ignore left half\n",
    "        elif arr[mid] < target:\n",
    "            low = mid + 1\n",
    "        \n",
    "        # If target is smaller, ignore right half\n",
    "        else:\n",
    "            high = mid - 1\n",
    "    \n",
    "    # If we reach here, the element was not present\n",
    "    return -1"
   ]
  },
  {
   "cell_type": "code",
   "execution_count": null,
   "metadata": {},
   "outputs": [],
   "source": [
    "# Example usage\n",
    "arr = [2, 3, 4, 10, 40]\n",
    "target = 10\n",
    "result = binary_search_iterative(arr, target)\n",
    "if result != -1:\n",
    "    print(\"Element found at index:\", result)\n",
    "else:\n",
    "    print(\"Element not found in array\")"
   ]
  },
  {
   "cell_type": "markdown",
   "metadata": {},
   "source": [
    "##### Comparison"
   ]
  },
  {
   "cell_type": "code",
   "execution_count": null,
   "metadata": {},
   "outputs": [],
   "source": [
    "# Compare the time taken for the recursive and iterative binary search\n",
    "time_recursive = []\n",
    "time_iterative = []\n",
    "\n",
    "# Average over 100 runs\n",
    "for length in range(100, 5000, 100):\n",
    "    for _ in range(100):\n",
    "        time_recursive_sum = 0\n",
    "        time_iterative_sum = 0\n",
    "        sequence = random_list(length)\n",
    "        sequence.sort()\n",
    "        #target = random.choice(sequence) # Take target as a random number from the sequence\n",
    "        target = random.randint(0, 100) # Take target as a random number between 0 and 100 \n",
    "        start = time.time()\n",
    "        binary_search_recursive(sequence, target, 0, len(sequence)-1)\n",
    "        end = time.time()\n",
    "        time_recursive_sum += (end - start) * 1000000\n",
    "\n",
    "        start = time.time()\n",
    "        binary_search_iterative(sequence, target)\n",
    "        end = time.time()\n",
    "        time_iterative_sum += (end - start) * 1000000\n",
    "    \n",
    "    time_recursive.append(time_recursive_sum / 100)\n",
    "    time_iterative.append(time_iterative_sum / 100)"
   ]
  },
  {
   "cell_type": "code",
   "execution_count": null,
   "metadata": {},
   "outputs": [],
   "source": [
    "# Plot the time taken for the recursive and iterative functions\n",
    "plt.figure(figsize=(8, 5))\n",
    "\n",
    "sns.scatterplot(x=range(100, 5000, 100), y=time_recursive, label='Recursive')\n",
    "sns.scatterplot(x=range(100, 5000, 100), y=time_iterative, label='Iterative')\n",
    "sns.lineplot(x=range(100, 5000, 100), y=time_recursive)\n",
    "sns.lineplot(x=range(100, 5000, 100), y=time_iterative)\n",
    "\n",
    "plt.title('Binary Search')\n",
    "\n",
    "plt.xlabel('Length of list', size=14)\n",
    "plt.ylabel('Time taken (μs)', size=14)\n",
    "\n",
    "plt.legend()\n",
    "\n",
    "plt.show()"
   ]
  },
  {
   "cell_type": "markdown",
   "metadata": {},
   "source": [
    "We can use the so-called moving-average for a better visualization of the behavior of the plot."
   ]
  },
  {
   "cell_type": "code",
   "execution_count": null,
   "metadata": {},
   "outputs": [],
   "source": [
    "def moving_average(data, window_size):\n",
    "    moving_average = []\n",
    "    for i in range(window_size, len(data)):\n",
    "        moving_average.append(sum(data[i-window_size:i]) / window_size)\n",
    "    return moving_average"
   ]
  },
  {
   "cell_type": "code",
   "execution_count": null,
   "metadata": {},
   "outputs": [],
   "source": [
    "window_size = 10\n",
    "moving_average_recursive = moving_average(time_recursive, window_size)\n",
    "moving_average_iterative = moving_average(time_iterative, window_size)\n",
    "x_range = range(100, 5000, 100)\n",
    "x_range_mov_avg = moving_average(x_range, window_size)"
   ]
  },
  {
   "cell_type": "code",
   "execution_count": null,
   "metadata": {},
   "outputs": [],
   "source": [
    "# Plot the time taken for the recursive and iterative functions moving average\n",
    "plt.figure(figsize=(8, 5))\n",
    "\n",
    "sns.scatterplot(x=x_range_mov_avg, y=moving_average_recursive, label='Recursive')\n",
    "sns.scatterplot(x=x_range_mov_avg, y=moving_average_iterative, label='Iterative')\n",
    "sns.lineplot(x=x_range_mov_avg, y=moving_average_recursive)\n",
    "sns.lineplot(x=x_range_mov_avg, y=moving_average_iterative)\n",
    "\n",
    "plt.title('Binary search')\n",
    "\n",
    "plt.xlabel('Length of list', size=14)\n",
    "plt.ylabel('Time taken (μs)', size=14)\n",
    "\n",
    "plt.legend()\n",
    "\n",
    "plt.show()"
   ]
  },
  {
   "cell_type": "markdown",
   "metadata": {},
   "source": [
    "### Exercise 6 - Binary Search Tree"
   ]
  },
  {
   "cell_type": "markdown",
   "metadata": {},
   "source": [
    "##### Define the Class"
   ]
  },
  {
   "cell_type": "markdown",
   "metadata": {},
   "source": [
    "Recursion is an easy and natural way of building a tree"
   ]
  },
  {
   "cell_type": "code",
   "execution_count": null,
   "metadata": {},
   "outputs": [],
   "source": [
    "class Node:\n",
    "    def __init__(self, data):\n",
    "        self.left = None # Left child\n",
    "        self.right = None # Right child\n",
    "        self.data = data # Node value\n",
    "\n",
    "    def insert(self, data):\n",
    "        if self.data:\n",
    "            if data < self.data:\n",
    "                if self.left is None:\n",
    "                    self.left = Node(data)\n",
    "                else:\n",
    "                    self.left.insert(data) # Recursive call\n",
    "            elif data > self.data:\n",
    "                if self.right is None:\n",
    "                    self.right = Node(data)\n",
    "                else:\n",
    "                    self.right.insert(data) # Recursive call\n",
    "        else:\n",
    "            self.data = data\n",
    "\n",
    "    def find(self, value):\n",
    "        if value < self.data:\n",
    "            if self.left is None:\n",
    "                return str(value) + \" Not Found\"\n",
    "            return self.left.find(value) # Recursive call\n",
    "        elif value > self.data:\n",
    "            if self.right is None:\n",
    "                return str(value) + \" Not Found\"\n",
    "            return self.right.find(value) # Recursive call\n",
    "        else:\n",
    "            return str(self.data) + ' is found'"
   ]
  },
  {
   "cell_type": "markdown",
   "metadata": {},
   "source": [
    "##### Additional Functions"
   ]
  },
  {
   "cell_type": "code",
   "execution_count": null,
   "metadata": {},
   "outputs": [],
   "source": [
    "def tree_depth(root):\n",
    "    if root is None:\n",
    "        return 0\n",
    "    else:\n",
    "        left_depth = tree_depth(root.left) # Recursive call\n",
    "        right_depth = tree_depth(root.right) # Recursive call\n",
    "        return max(left_depth, right_depth) + 1"
   ]
  },
  {
   "cell_type": "code",
   "execution_count": null,
   "metadata": {},
   "outputs": [],
   "source": [
    "def visualize_tree(node):\n",
    "    def add_nodes_edges(node, dot=None):\n",
    "        if dot is None:\n",
    "            dot = Digraph()\n",
    "            dot.node(name=str(node), label=str(node.data))\n",
    "        \n",
    "        if node.left:\n",
    "            dot.node(name=str(node.left), label=str(node.left.data))\n",
    "            dot.edge(str(node), str(node.left))\n",
    "            add_nodes_edges(node.left, dot=dot)\n",
    "        \n",
    "        if node.right:\n",
    "            dot.node(name=str(node.right), label=str(node.right.data))\n",
    "            dot.edge(str(node), str(node.right))\n",
    "            add_nodes_edges(node.right, dot=dot)\n",
    "        \n",
    "        return dot\n",
    "    \n",
    "    dot = add_nodes_edges(node)\n",
    "    # Display the graph within the Jupyter notebook\n",
    "    display(dot)\n",
    "\n",
    "# Build a tree from a list\n",
    "def build_tree(arr):\n",
    "    root = Node(arr[0])\n",
    "    for i in range(1, len(arr)):\n",
    "        root.insert(arr[i])\n",
    "    return root"
   ]
  },
  {
   "cell_type": "markdown",
   "metadata": {},
   "source": [
    "When performing operations on trees, such as searching, inserting, or deleting nodes, it's common to start with a particular node (often the root) and then recursively apply the same operation to its child nodes. This approach leverages the tree's structure, where each node can be considered as a subtree, allowing for the division of a large, complex problem into smaller, more manageable subproblems. This recursive nature enables efficient and elegant solutions for many problems. We can say that each node recursively delegate its work to one or more of its children nodes."
   ]
  },
  {
   "cell_type": "markdown",
   "metadata": {},
   "source": [
    "##### Use"
   ]
  },
  {
   "cell_type": "code",
   "execution_count": null,
   "metadata": {},
   "outputs": [],
   "source": [
    "# Example usage\n",
    "arr = [3, 5, 2, 7, 1, 4, 6]\n",
    "root = build_tree(arr)"
   ]
  },
  {
   "cell_type": "code",
   "execution_count": null,
   "metadata": {},
   "outputs": [],
   "source": [
    "visualize_tree(root)"
   ]
  },
  {
   "cell_type": "code",
   "execution_count": null,
   "metadata": {},
   "outputs": [],
   "source": [
    "tree_depth(root)"
   ]
  }
 ],
 "metadata": {
  "kernelspec": {
   "display_name": "Python 3",
   "language": "python",
   "name": "python3"
  },
  "language_info": {
   "codemirror_mode": {
    "name": "ipython",
    "version": 3
   },
   "file_extension": ".py",
   "mimetype": "text/x-python",
   "name": "python",
   "nbconvert_exporter": "python",
   "pygments_lexer": "ipython3",
   "version": "3.10.12"
  }
 },
 "nbformat": 4,
 "nbformat_minor": 2
}
